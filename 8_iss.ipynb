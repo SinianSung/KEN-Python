{
  "metadata": {
    "kernelspec": {
      "name": "python36",
      "display_name": "Python 3.6",
      "language": "python"
    },
    "language_info": {
      "mimetype": "text/x-python",
      "nbconvert_exporter": "python",
      "name": "python",
      "pygments_lexer": "ipython3",
      "version": "3.6.6",
      "file_extension": ".py",
      "codemirror_mode": {
        "version": 3,
        "name": "ipython"
      }
    }
  },
  "nbformat_minor": 2,
  "nbformat": 4,
  "cells": [
    {
      "cell_type": "markdown",
      "source": "# Daten aus dem Internet laden: 'Wo ist die ISS?'\n## Vorbereitungen\n\nDamit wird Daten aus dem Internet laden können, müssen wir einige Befehls-Bibliotheken. Dies müssen wir zu Beginn des Programmes machen. Zudem brauchen wir eine eigene Prozedur welche die technischen Details erledigen.\nDie Prozedur `getiss()` fragt die adresse [Link] http://api.open-notify.org/iss-now.json nach Daten an. Die Antwort `response` muss erst entziffert werden da sie 'nur' eine Reihe von Bits ist. Die gelesenen Daten werden vom Programm zurückgegeben.",
      "metadata": {}
    },
    {
      "cell_type": "code",
      "source": "from datetime import datetime\nimport time\nimport urllib.request\nimport json\n\ndef getiss():\n    response = urllib.request.urlopen('http://api.open-notify.org/iss-now.json')\n    mydata = response.read()\n    return(mydata)",
      "metadata": {
        "trusted": true
      },
      "execution_count": null,
      "outputs": []
    },
    {
      "cell_type": "markdown",
      "source": "Die Daten haben diese Form: \n~~~ json\n{\"message\": \"success\", \"timestamp\": 1552692781, \"iss_position\": {\"latitude\": \"-16.1479\", \"longitude\": \"131.3330\"}}\n~~~\nDiese Art von Datenformat nennt man **JSON**\n\nWir müssen nur noch die Informationen aus den einzelnen 'Fächern' herauskopieren und in Variabeln speichern.",
      "metadata": {}
    },
    {
      "cell_type": "code",
      "source": "iss = str(getiss(),'utf-8')\npos = json.loads(iss)\nlat = pos['iss_position']['latitude']\nlon = pos['iss_position']['longitude']\nwhen = datetime.now()\nprint('ISS Location for {} Lat: {} Long: {}'.format(when.strftime(\"%d %b %Y %H:%M:%S\"),float(lat),float(lon)))\n",
      "metadata": {
        "trusted": true
      },
      "execution_count": null,
      "outputs": []
    },
    {
      "cell_type": "code",
      "source": "",
      "metadata": {},
      "execution_count": null,
      "outputs": []
    }
  ]
}
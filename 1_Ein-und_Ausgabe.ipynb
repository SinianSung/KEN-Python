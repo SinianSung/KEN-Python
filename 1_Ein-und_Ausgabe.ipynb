{
  "metadata": {
    "language_info": {
      "mimetype": "text/x-python",
      "nbconvert_exporter": "python",
      "name": "python",
      "pygments_lexer": "ipython3",
      "version": "3.6.6",
      "file_extension": ".py",
      "codemirror_mode": {
        "version": 3,
        "name": "ipython"
      }
    },
    "kernelspec": {
      "name": "python36",
      "display_name": "Python 3.6",
      "language": "python"
    }
  },
  "nbformat_minor": 2,
  "nbformat": 4,
  "cells": [
    {
      "cell_type": "markdown",
      "source": "# Das E.V.A. Prinzip\n## Eingabe von Daten\nDie meisten Programme brauchen einen Input des Benutzers. Der einfachste Weg ist den Benutzer nach einer Eingabe zu fragen. Die Eingabe muss aber für die weitere Verwendung in einer Variable gespeichert werden.\n~~~ python\nwert = input(\"Geben Sie einen Text ein: \")\n~~~\nDie Eingabe des Benutzers wird in der Variable Wert als Text gespeichert. Ist die Eingabe eine Zahl, so muss man dies entsprechend Vorbereiten.\n~~~ python\nwert = int(input(\"Geben Sie eine ganze Zahl ein:\"))\n~~~\nDie Funktion `int()` wandelt die Eingabe in eine ganze Zahl um. Dies natürlich nur, wenn der Benutzer einen «brauchbaren» Wert eingegeben hat. Sollte die Eingabe eine Zahl mit Kommastellen sein, so sieht die Funktion etwas anders aus:\n~~~ python\nwert = float(input(\"Geben Sie eine ganze Zahl ein:\"))\n~~~\n`float()` ist die Bezeichnung für eine beliebige Dezimalzahl. Die Eingabe wird entsprechend umgewandelt.\n## Ausgabe\nUm Werte und Texte ausgeben zu können, brauchen wir den Befehl `print()`. Will man einen Text ausgeben, so muss dieser durch Anführungszeichen eingeschlossen werden. Das Programm muss den Text von möglichen Variablen unterscheiden können.\n~~~ python\nprint(\"Text für die Ausgabe\")\nprint(\"Ausgabe mit einer Variable {} mit einer anderen {}\".format(wert, wert2))\n~~~\nDer Wert der Variable wird bei der Ausgabe in den Platzhalter **`{}`** eingesetzt.\n",
      "metadata": {}
    },
    {
      "cell_type": "code",
      "source": "name = input(\"Geben Sie ihren Namen ein: \")\nprint(\"Hallo {}\".format(name))",
      "metadata": {
        "trusted": true
      },
      "execution_count": 1,
      "outputs": [
        {
          "text": "Hallo Peter\n",
          "name": "stdout",
          "output_type": "stream"
        }
      ]
    },
    {
      "cell_type": "markdown",
      "source": "Für zwei Variabeln muss man einfach alle Werte in Format auflisten und für jedes einen Platzhalter {} einfügen.",
      "metadata": {}
    },
    {
      "cell_type": "code",
      "source": "a=2\nb=3\nprint(\"Die beiden Werte sind {} und {}\".format(a,b))",
      "metadata": {
        "trusted": true
      },
      "execution_count": 2,
      "outputs": [
        {
          "text": "Die beiden Werte sind 2 und 3\n",
          "name": "stdout",
          "output_type": "stream"
        }
      ]
    },
    {
      "cell_type": "markdown",
      "source": "## Aufgaben\n1. Schreiben Sie ein kurzes Programm das den Benutzer nach dem Vornamen und anschliessend nach dem Nachnamen fragt. Das Programm soll beide Namen zusammen ausgeben.\n2. Das Programm soll nach zwei ganzen Zahlen ,Basis und Exponent, fragen und die Potenz ausgeben.\n3. Machen Sie ein Programm das die eingegebene Anzahl Tage umrechnet in Anzahl ganze Wochen. Sie brauchen dazu die ganzzahlige Division `tage//7`. Mit dem Befehl `tage%7` kann man berechnen wie viele Tage überig sind.",
      "metadata": {}
    },
    {
      "cell_type": "code",
      "source": "#aufgabe 1\nvorname = input(\"Geben Sie ihren Vornamen ein: \")\nnachname = input(\"Geben Sie ihren Nachnamen ein: \")\nprint(\"Hallo {} {}\".format(vorname, nachname))",
      "metadata": {
        "trusted": true
      },
      "execution_count": 4,
      "outputs": [
        {
          "text": "Hallo Gregor Lüdi\n",
          "name": "stdout",
          "output_type": "stream"
        }
      ]
    },
    {
      "cell_type": "code",
      "source": "#aufgabe 2\nbasis = int(input(\"Geben Sie die Basis ein: \"))\nexponent = int(input(\"Geben Sie den Exponenten ein: \"))\nprint(\"{} ** {} = {}\".format(basis, exponent, basis**exponent))",
      "metadata": {
        "trusted": true
      },
      "execution_count": 5,
      "outputs": [
        {
          "text": "4 ** 23 = 70368744177664\n",
          "name": "stdout",
          "output_type": "stream"
        }
      ]
    },
    {
      "cell_type": "code",
      "source": "tage = int(input(\"Geben Sie die Anzahl Tage ein:\"))\nprint(\"Das sind {} Wochen und {} Tage.\".format(tage//7, tage%7))",
      "metadata": {
        "trusted": true
      },
      "execution_count": 7,
      "outputs": [
        {
          "text": "Das sind 52 Wochen und 2 Tage.\n",
          "name": "stdout",
          "output_type": "stream"
        }
      ]
    },
    {
      "cell_type": "code",
      "source": "",
      "metadata": {},
      "execution_count": null,
      "outputs": []
    }
  ]
}
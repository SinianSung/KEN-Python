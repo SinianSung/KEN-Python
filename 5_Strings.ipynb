{
  "metadata": {
    "language_info": {
      "mimetype": "text/x-python",
      "nbconvert_exporter": "python",
      "name": "python",
      "pygments_lexer": "ipython3",
      "version": "3.6.6",
      "file_extension": ".py",
      "codemirror_mode": {
        "version": 3,
        "name": "ipython"
      }
    },
    "kernelspec": {
      "name": "python36",
      "display_name": "Python 3.6",
      "language": "python"
    }
  },
  "nbformat_minor": 2,
  "nbformat": 4,
  "cells": [
    {
      "cell_type": "markdown",
      "source": "# Strings\n## Arbeiten mit Strings\nSehr viele Daten werden in Python als Zeichenketten, Strings, gespeichert. Wie wir das letzte Mal gesehen haben, wird jeder Eingabe als String gespeichert. \n### Der String im Arbeitsspeicher\nEine Zeichenkette wird, wie alle Daten, im Speicher gesichert. Anders aber als eine Zahl oder ein Wahrheitswert braucht ein String viel Speicherplatz. In den meisten Programmiersprachen muss ein Speicherbereich freigegeben werden. Dann merkt sich der Computer die Adresse des String-anfangs. Der String ist so lang, bis im Speicher das Zeichen \\0 (NULL) erscheint.\n\n![alt text](strings.png \"Strings im Arbeitsspeicher\")\n\nIm Arbeitsspeicher wird aber alles gespeichert was der Computer zum Arbeiten braucht. Viele Speicherblöcke sind schon von anderen Programmen/Variablen besetzt. Aus diesem Grund muss der Computer mit dem Platz im Arbeitsspeicher etwas haushalten. Strings zu ändern ist etwas mühsam da immer ganze Speicherblöcke freigegeben werden müssen.\n     \n## Methoden für Strings\nMit den folgenden Methoden kann man den String manipulieren. Wichtig dabei ist, dass der String selbst nicht verändert wird, sondern ein neuer String erzeugt wird mit den gewünschten Veränderungen.\n\n| Methode | Bedeutung |\n| ------- | ---------- |\n| `str.lower()` | Wandelt alle Zeichen in str in Kleinbuchstaben um. |\n| `str.upper()` | Wandelt alle Zeichen in str in Grossbuchstaben um. |\n| `len(str)` | Gibt die Anzahl Zeichen in diesem Text aus.|\n| `str.replace(old,new) `| Ersetzt den alten Teilstring old durch den Neuen new |\n| `str.split() `| Teilt den String str in mehrere Teile und macht daraus eine Liste |\n| `str.find(s, index)` | Gibt an, an welcher Stelle der Teilstring s zu finden ist. Gesucht wird ab dem vorgegebenen Index. |\n\nDas Ergebnis einer solchen Methode ist immer der manipulierte Text. Der ursprüngliche Text wird nicht verändert. ",
      "metadata": {}
    },
    {
      "cell_type": "code",
      "source": "text = \"Dies ist ein einfacher Text!\"\ntext = text.lower()\nprint(text)\nprint(len(text))",
      "metadata": {
        "trusted": true
      },
      "execution_count": 1,
      "outputs": [
        {
          "text": "dies ist ein einfacher text!\n28\n",
          "name": "stdout",
          "output_type": "stream"
        }
      ]
    },
    {
      "cell_type": "markdown",
      "source": "## String Slicing\nMan kann auch einzelne Zeichen aus einem String auslesen. Die Zeichen einer Zeichenkette sind nummeriert. Das erste Zeichen hat die Nummer 0. Schreibt man in eckigen Klammern eine Zahl, so wird das entsprechende Zeichen ausgegeben. Stehen zwei Zahlen, so werden alle Zeichen zwischen diesen Nummern ausgegeben.\n\n![alt text](slicing.png \"Slicing\")\n\n~~~ python \ntxt = \"Hallo Welt!\"\ntxt = txt[1:5]\n# txt ist jetzt 'allo'\n~~~ \noder\n~~~ python\nprint(txt[0:5])\n'Hallo'\n~~~ \nGibt man bei einem Text die Anweisung variable[::-1] an, so wird der Text rückwärts ausgegeben.",
      "metadata": {}
    },
    {
      "cell_type": "code",
      "source": "text = \"Hier steht ein Text!\"\nprint(text[::-1])",
      "metadata": {
        "trusted": true
      },
      "execution_count": 3,
      "outputs": [
        {
          "text": "!txeT nie thets reiH\n",
          "name": "stdout",
          "output_type": "stream"
        }
      ]
    },
    {
      "cell_type": "markdown",
      "source": "### Aufgaben\n1. Das Programm nimmt einen Text entgegen und gibt ihn mit Kleinbuchstaben, rückwärts wieder aus.\n2. Schreiben Sie ein Programm, welches nach dem Benutzernamen fragt und kontrolliert ob der Benutzername einem von Ihnen vorgegebenen Text entspricht. Die Gross- oder Kleinschreibung darf keine Rolle spielen.\n3. Schreiben Sie ein Programm, welches einen Text entgegennimmt und ihn ohne Umlaute wieder zurückgibt. Schreiben Sie eine Prozedur, welche dies bewerkstelligt.",
      "metadata": {}
    },
    {
      "cell_type": "code",
      "source": "# Aufgabe 1\ntext = input(\"Geben Sie einen Text ein: \")\n\nprint(text[::-1].lower())",
      "metadata": {
        "trusted": true
      },
      "execution_count": 7,
      "outputs": [
        {
          "text": "gfgd\n",
          "name": "stdout",
          "output_type": "stream"
        }
      ]
    },
    {
      "cell_type": "code",
      "source": "# Aufgabe 2\nbenutzername = input(\"Geben Sie ihren Benutzernamen ein: \")\n\nif benutzername.lower() == \"gregor\":\n    print(\"Hallo Gregor, wie geht es dir?\")\nelse:\n    print(\"Benutzername ist unbekannt {}\".format(benutzername))",
      "metadata": {
        "trusted": true
      },
      "execution_count": 4,
      "outputs": [
        {
          "text": "Benutzername ist unbekannt fritz\n",
          "name": "stdout",
          "output_type": "stream"
        }
      ]
    },
    {
      "cell_type": "code",
      "source": "# Aufgabe 3\ndef ohneUmlaute(text):\n    text = text.lower()\n    text = text.replace('ü','ue')\n    text = text.replace('ö','oe')\n    text = text.replace('ä','ae')\n    return text\n\neingabe = input(\"Geben Sie einen Text ein: \")\nprint(ohneUmlaute(eingabe))",
      "metadata": {
        "trusted": true
      },
      "execution_count": 6,
      "outputs": [
        {
          "text": "khgsjdghoeaelplaelaeaeoepae\n",
          "name": "stdout",
          "output_type": "stream"
        }
      ]
    },
    {
      "cell_type": "code",
      "source": "",
      "metadata": {},
      "execution_count": null,
      "outputs": []
    }
  ]
}
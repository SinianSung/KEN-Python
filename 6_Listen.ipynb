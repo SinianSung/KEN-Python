{
  "metadata": {
    "language_info": {
      "mimetype": "text/x-python",
      "nbconvert_exporter": "python",
      "name": "python",
      "pygments_lexer": "ipython3",
      "version": "3.6.6",
      "file_extension": ".py",
      "codemirror_mode": {
        "version": 3,
        "name": "ipython"
      }
    },
    "kernelspec": {
      "name": "python36",
      "display_name": "Python 3.6",
      "language": "python"
    }
  },
  "nbformat_minor": 2,
  "nbformat": 4,
  "cells": [
    {
      "cell_type": "markdown",
      "source": "# Listen\nListen sind flexibler als Strings. Strings und Tuples sind 'immutable', d.h. sie können nicht verän-dert werden. Listen sind im Gegensatz dazu veränderbar. Eine Liste ist was der Name schon sagt: eine Liste von Werten. Die Werte können jeden beliebigen Typ haben. Wir können Werte hinzu-fügen oder entfernen. Die Länge muss nicht wie in vielen anderen Programmiersprachen vorher definiert werden.\n \nDer erste Eintrag in einer Liste wird mit einer Null angesprochen. Der Computer realisiert eine Liste in Python als Kette von Knoten. Jeder Knoten enthält zwei Dinge: die Daten und die Adres-se des nächsten Elementes. Diese Adressen können wir aber nur indirekt beeinflussen.\n \nWir können auch jeden String in eine Liste umwandeln. Viele der Techniken der Strings funktionieren hier gleich. \n~~~ python",
      "metadata": {}
    },
    {
      "cell_type": "code",
      "source": "farben = 'rot,grün,blau,gelb'\ncolors = farben.split(',')\nprint(colors)",
      "metadata": {
        "trusted": true
      },
      "execution_count": 3,
      "outputs": [
        {
          "text": "['rot', 'grün', 'blau', 'gelb']\n",
          "name": "stdout",
          "output_type": "stream"
        }
      ]
    },
    {
      "cell_type": "markdown",
      "source": "Mit dem Befehl Split kann man Listen erzeugen. Mit append oder insert kann man Werte in eine Liste einfügen.",
      "metadata": {}
    },
    {
      "cell_type": "code",
      "source": "mylist=['Das', 'Wetter']\nmylist.append('schön')\nmylist[1]='Leben'\nmylist.insert(2, 'ist')\nprint(mylist)  # Das Ergebnis?",
      "metadata": {},
      "execution_count": null,
      "outputs": []
    },
    {
      "cell_type": "markdown",
      "source": "",
      "metadata": {}
    },
    {
      "cell_type": "markdown",
      "source": "### Liste von Befehlen\nWie für die Strings gibt es auch für Listen verschiedene Befehle. Einige sind genau gleich wie für Strings.\n\n| Methode | Bedeutung |\n| ------- | --------- |\n| `liste.append(obj)` | Fügt obj am Ende der Liste ein. |\n| `liste.insert(index, obj)` | Fügt einen Neuen Wert obj an der Stelle index in die Liste ein |\n| `liste.remove(value)` | Löscht den Wert value aus der Liste. |\n| `liste.reverse()` | Dreht die Reihenfolge der Werte um. |\n| `liste.sort()` | Sortiert die Liste. |\n| `liste.index(value)` | Gibt zurück, wo der Wert value in der Liste steht. |\n| `liste.count(value)` | Zählt, wie oft der Wert value in der Liste vorkommt. |\n",
      "metadata": {}
    },
    {
      "cell_type": "markdown",
      "source": "## Aufgaben\n1. Schreiben Sie ein Programm das fünf Werte entgegen nimmt und diese in einer Liste speichert. Nun soll das Programm die Liste normal, in umgekehrter Reihenfolge und sortiert ausgeben. Am Ende sollte der Wert in der Mitte entfernt werden.\n2. Was macht das folgende Programm:\n ~~~ python \n import random\n basenpaare = ['a','c','g','t']\n text=''\n for i in rande(100):\n     zeichen = random.choice(basenpaare)\n     text = text +zeichen\n print(text)\n ~~~\n3. Schreiben Sie ein Programm, welches von 1 bis n zählt. Der Wert von n soll durch den Be-nutzer eingegeben werden. Die Ausgabe des Programmes sind die Zahlen von 1 bis n ausser, die Zahl ist durch 7 teilbar `(zahl%7 ==0)` oder enthält die Ziffer 7 `(‘7’ in zahl)`. In diesen Fällen soll das Wort \"Hugo\" geschrieben werden. \n1, 2, 3, 4, 5, 6, Hugo, 8, 9, 10, 11, 12, 13, Hugo, 16, Hugo, 18, …\nSie brauchen für diese Aufgabe eine Selektion mit if und den %-Operator (Rest bei einer Di-vision). Zudem brauchen Sie noch die Bedingung «in»:\n~~~ python\nif ‘7’ in zahl:\n    #Codeblock falls die Ziffer 7 enthalten ist.\nelse:\n    pass() # Codeblock falls die Ziffer 7 nicht enthalten ist\n~~~",
      "metadata": {}
    },
    {
      "cell_type": "code",
      "source": "",
      "metadata": {},
      "execution_count": null,
      "outputs": []
    }
  ]
}
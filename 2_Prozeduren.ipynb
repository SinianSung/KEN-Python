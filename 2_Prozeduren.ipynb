{
  "metadata": {
    "language_info": {
      "mimetype": "text/x-python",
      "nbconvert_exporter": "python",
      "name": "python",
      "pygments_lexer": "ipython3",
      "version": "3.6.6",
      "file_extension": ".py",
      "codemirror_mode": {
        "version": 3,
        "name": "ipython"
      }
    },
    "kernelspec": {
      "name": "python36",
      "display_name": "Python 3.6",
      "language": "python"
    }
  },
  "nbformat_minor": 2,
  "nbformat": 4,
  "cells": [
    {
      "cell_type": "markdown",
      "source": "# Prozeduren oder eigene Befehle erstellen\n\nProzdeuren sind kleine Hilfsprogramme die in der Regel eine Teilaufgabe für sich lösen. Diese Prozeduren müssen zu Beginn des Codes aufgelistet werden und sind durch den Befehl `def` gekennzeichnet. Nach diesem Codewort muss man die Prozedur benennen und den Namen mit Klammern abschliessen. Mit einem Doppelpunkt am Ende der Zeile gibt man an, dass jetzt der Code folgt der zu dieser Prozedur gehört. Dies wird unterschtützt durch das einrücken um eine Einheit (1 Tab oder 4 Leerschläge) bis der Codeblock beendet ist. \n\nDer eigene Befehl muss vor der ersten Verwedung definiert werden. Üblicherweise listest man die eigenen Befehle am Anfang des Codes. Hier ein Beispiel dazu.",
      "metadata": {}
    },
    {
      "cell_type": "code",
      "source": "def meinBefehl(a, b=4):\n    ergebnis = a+3*b\n    return ergebnis\n\na = meinBefehl(4,5)\nprint(a)",
      "metadata": {
        "trusted": true
      },
      "execution_count": 1,
      "outputs": [
        {
          "text": "19\n",
          "name": "stdout",
          "output_type": "stream"
        }
      ]
    },
    {
      "cell_type": "markdown",
      "source": "### Vorgehen\n1. Namen des Befehles wählen\n2. Welche Eingabewerte braucht dieser Befehl?\n3. Jede Eingabe braucht eine eigene Variable\n4. Braucht es einen Vorgegebenen wert?\n5. Was ist das Ergebnis dieses Befehls?\n6. Code erstellen",
      "metadata": {}
    },
    {
      "cell_type": "markdown",
      "source": "# Befehle als Codeabkürzungen (Prozeduren ohne Parameter)\nDiese Prozeduren haben keine eigenen Parameter und erledigen einfach eine Aufgabe ohne dass man den gesamten Code neu schreiben muss. Diese Befehle helfen das Programm *übersichtlicher* zu halten.",
      "metadata": {}
    },
    {
      "cell_type": "code",
      "source": "def line():\n    print('-'*40)\n    print('^'*40)\n\nname = input(\"Geben Sie ihren Namen ein: \")\nline()\nprint(\"Hallo {}\".format(name))\nline()",
      "metadata": {
        "trusted": true
      },
      "execution_count": 2,
      "outputs": [
        {
          "text": "----------------------------------------\n^^^^^^^^^^^^^^^^^^^^^^^^^^^^^^^^^^^^^^^^\nHallo Gregor\n----------------------------------------\n^^^^^^^^^^^^^^^^^^^^^^^^^^^^^^^^^^^^^^^^\n",
          "name": "stdout",
          "output_type": "stream"
        }
      ]
    },
    {
      "cell_type": "markdown",
      "source": "## Aufgaben\n1. Schreiben Sie eine Prozedur für eine eigene dekorative Trennlinie wie das Beispiel oben.\n2. Schreiben Sie eine Prozedur namens **signature** welche ihren ganzen Namen und \"Titel\" ausgibt.",
      "metadata": {}
    },
    {
      "cell_type": "code",
      "source": "# Aufgabe 1\ndef deko():\n    print(\"-\"*50)\n    print(\"¬\"*50)\n    \ndeko()",
      "metadata": {
        "trusted": true
      },
      "execution_count": 2,
      "outputs": [
        {
          "text": "--------------------------------------------------\n¬¬¬¬¬¬¬¬¬¬¬¬¬¬¬¬¬¬¬¬¬¬¬¬¬¬¬¬¬¬¬¬¬¬¬¬¬¬¬¬¬¬¬¬¬¬¬¬¬¬\n",
          "name": "stdout",
          "output_type": "stream"
        }
      ]
    },
    {
      "cell_type": "code",
      "source": "# Aufgabe 2\ndef signatur():\n    deko()\n    print(\"Gregor Lüdi\")\n    deko()\n    \nsignatur()",
      "metadata": {
        "trusted": true
      },
      "execution_count": 3,
      "outputs": [
        {
          "text": "--------------------------------------------------\n¬¬¬¬¬¬¬¬¬¬¬¬¬¬¬¬¬¬¬¬¬¬¬¬¬¬¬¬¬¬¬¬¬¬¬¬¬¬¬¬¬¬¬¬¬¬¬¬¬¬\nGregor Lüdi\n--------------------------------------------------\n¬¬¬¬¬¬¬¬¬¬¬¬¬¬¬¬¬¬¬¬¬¬¬¬¬¬¬¬¬¬¬¬¬¬¬¬¬¬¬¬¬¬¬¬¬¬¬¬¬¬\n",
          "name": "stdout",
          "output_type": "stream"
        }
      ]
    },
    {
      "cell_type": "markdown",
      "source": "## Prozeduren mit Parameter\nMeistens braucht eine Prozedur Informationen damit Sie die Aufgabe erledigen kann. Diese Informationen werden in den Klammern als Variabeln angegeben. Will man zum Beispiel eine Prozedur haben die eine Trennlinie wie oben mach und man soll das Trennzeichen und die Länge angeben können, so braucht man zwei Variabeln:\n~~~ python\ndef line(laenge, zeichen):\n    print(laenge*zeichen)\n    \nline(30,\"=\")\n~~~\nDabei sollte `laenge` eine Zahl sein und `zeichen` eine Zeichenkette. **Probieren Sie es am Code unten aus.**",
      "metadata": {}
    },
    {
      "cell_type": "code",
      "source": "def line(laenge, zeichen):\n    print(laenge*zeichen)\n    \nline(50,\"=\")",
      "metadata": {
        "trusted": true
      },
      "execution_count": 7,
      "outputs": [
        {
          "text": "==================================================\n",
          "name": "stdout",
          "output_type": "stream"
        }
      ]
    },
    {
      "cell_type": "markdown",
      "source": "### Ergebnisse zurückgeben\nDie Prozrduren können auch Ergebnisse zurückgeben. Dies macht man am Ende der Prozedur mit dem Befehl `return`. Hinter return schreibt man welchen Wert oder welche Variable man zurückgeben will:\n~~~ python \ndef summe(a,b):\n    s = a + b\n    return s\n    \nprint(summe(5,4))\n~~~\n\nBitte denken Sie daran, dass man die Funktion aufrufen muss und den Ergebniswert entweder speichern oder ausgeben muss damit man sieht was passiert.",
      "metadata": {}
    },
    {
      "cell_type": "markdown",
      "source": "## Aufgaben\n1. Schreiben Sie eine Prozedur welche zwei Zahlen entgegennimmt und das Produkt zurückgibt.\n2. Schreiben Sie eine Prozedur welche das Gewicht [kg] und die Körpergrösse [m] entgegennimmt und den BodyMassIndex mit der Formel `bmi = gewicht/(groesse**2)` berechnet und zurückgibt. Machen Sie ein Programm welches den Benutzer nach den Infos fragt, die Prozedur aufruft und das Ergebnis ausgibt.\n3. Schreiben Sie eine Prozedur welche aus den Zahlen `total` und `wert` die Prozentzahl von `wert` ausgibt. z.Bsp. total=200, wert=30 --> 15%",
      "metadata": {}
    },
    {
      "cell_type": "code",
      "source": "# Aufgabe 1\ndef produkt(a,b):\n    p = a*b\n    return p\n\nzahl1 = int(input(\"Geben Sie die erste Zahl ein: \"))\nzahl2 = int(input(\"Geben Sie die zweite Zahl ein: \"))\nprint(produkt(zahl1, zahl2))\nsignatur()",
      "metadata": {
        "trusted": true
      },
      "execution_count": 4,
      "outputs": [
        {
          "text": "18\n--------------------------------------------------\n¬¬¬¬¬¬¬¬¬¬¬¬¬¬¬¬¬¬¬¬¬¬¬¬¬¬¬¬¬¬¬¬¬¬¬¬¬¬¬¬¬¬¬¬¬¬¬¬¬¬\nGregor Lüdi\n--------------------------------------------------\n¬¬¬¬¬¬¬¬¬¬¬¬¬¬¬¬¬¬¬¬¬¬¬¬¬¬¬¬¬¬¬¬¬¬¬¬¬¬¬¬¬¬¬¬¬¬¬¬¬¬\n",
          "name": "stdout",
          "output_type": "stream"
        }
      ]
    },
    {
      "cell_type": "markdown",
      "source": "",
      "metadata": {}
    },
    {
      "cell_type": "code",
      "source": "# Aufgabe 2\ndef bmi(gew, gr):\n    return gew/(gr**2)\n\ngewicht = int(input(\"Geben Sie ihr Gewicht in kg ein: \"))\ngroesse = float(input(\"Geben Sie ihre Körpergrösse in m ein: \"))\n\nprint(\"Ihr BMI ist {}\".format(bmi(gewicht, groesse)))",
      "metadata": {
        "trusted": true
      },
      "execution_count": 9,
      "outputs": [
        {
          "text": "Ihr BMI ist 0.002487917870113529\n",
          "name": "stdout",
          "output_type": "stream"
        }
      ]
    },
    {
      "cell_type": "code",
      "source": "# Aufgabe 3",
      "metadata": {},
      "execution_count": null,
      "outputs": []
    }
  ]
}
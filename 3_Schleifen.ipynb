{
 "cells": [
  {
   "cell_type": "markdown",
   "metadata": {},
   "source": [
    "# Schleifen\n",
    "## Wie können wir Python dazu bringen Anweisungen mehrfach aus zu führen?\n",
    "\n",
    "Schleifen oder auch Iterationen kommen in fast allen Programmen vor. Sehr oft müssen Teile eines Programms immer und immer wieder ausgeführt werden.\n",
    "Es gibt zwei verschiedene Arten von Schleifen:\n",
    "- zählgesteuerte Schleifen\n",
    "- bedingungsgesteuerte Schleifen\n",
    "\n",
    "In Python haben wir auch diese zwei verschiedene Arten um Befehle zu wiederholen. \n",
    "### Zählschleifen\n",
    "Will man eine feste Anzahl von Wiederholungen, so schreibt man anstelle von my_list  `range(n)`. Der Befehl `range(n)` erzeugt eine Liste mit den Werten 0 bis n-1:\n",
    "~~~ python\n",
    "[0,1,2,3,...,n-1]\n",
    "~~~\n",
    "Damit können wir einfach eine Schleife machen die eine feste Anzahl von Wiederholungen durchläuft. DIe Variable nummer geht dabei jeden Wert in der Liste [0,1,2,3,4,5,6,7,8,9] durch. Die Variable `nummer` **zählt** mit, wie oft der Befehlsblock schon wiederholt wurde. Man muss aber beachtenm dass die Zählvariable in der Regel bei *Null* beginnt.\n",
    "~~~ python\n",
    "for nummer in range(10):\n",
    "    #diese Befehle werden wiederholt.\n",
    "    print(' Dies ist die ', nummer, '-te Wiederholung.')\n",
    "#wiederholung ist beendet\n",
    "~~~\n",
    "Wir können Python mitteilen, dass alles was folgt und eingerückt wurde, eine fixe Anzahl Wiederholt werden soll. Der **Doppelpunkt** gibt an, dass jetzt der Codeblock kommt der wiederholt werden muss.\n",
    "Damit Python weiss was wiederholt werden muss, rückt man alles einmal (4 Leerschläge) ein:\n",
    "~~~ python\n",
    "for i in range(12):\n",
    "    print(i)\n",
    "print(\"fertig\")\n",
    "~~~\n",
    "Das Programm listet die Zahlen 0 bis 11 auf und schreibt am Schluss \"fertig\" hin. Die Variablee i nimmt die Werte 0,...,11 an, in jedem Durchlauf eins mehr.\n",
    "\n",
    "#### Beispiel\n",
    "Haben wir eine Liste (my_list) mit Daten die man Schritt für Schritt durchgehen kann oder eine feste Anzahl Wieder-holungen geplant, so können wir eine for-Schleife benutzen.\n",
    "~~~ python\n",
    "for item in my_list:\n",
    "    # diese Befehle werden wiederholt.\n",
    "    print('Dies sind die Einträge in der Liste: ', item)\n",
    "#wiederholung ist beendet\n",
    "~~~\n",
    "\n",
    "### Schleifen in Schleifen\n"
   ]
  },
  {
   "cell_type": "code",
   "execution_count": 3,
   "metadata": {},
   "outputs": [
    {
     "name": "stdout",
     "output_type": "stream",
     "text": [
      "0 0\n",
      "1\n",
      "2\n",
      "3\n",
      "4\n",
      "5\n",
      "immer noch in der 1. Schleife\n",
      "1 0\n",
      "1\n",
      "2\n",
      "3\n",
      "4\n",
      "5\n",
      "immer noch in der 1. Schleife\n",
      "2 0\n",
      "1\n",
      "2\n",
      "3\n",
      "4\n",
      "5\n",
      "immer noch in der 1. Schleife\n",
      "3 0\n",
      "1\n",
      "2\n",
      "3\n",
      "4\n",
      "5\n",
      "immer noch in der 1. Schleife\n",
      "4 0\n",
      "1\n",
      "2\n",
      "3\n",
      "4\n",
      "5\n",
      "immer noch in der 1. Schleife\n",
      "Schleife fertig\n"
     ]
    }
   ],
   "source": [
    "for i in range(5):\n",
    "    print(i, end=\" \")\n",
    "    for j in range(6):\n",
    "        print(j)\n",
    "    print('immer noch in der 1. Schleife')\n",
    "print('Schleife fertig')"
   ]
  },
  {
   "cell_type": "markdown",
   "metadata": {},
   "source": [
    "### Aufgaben\n",
    "1. Schreiben Sie ein Programm das \"Hallo Welt!\" 30mal ausdruckt.\n",
    "2. Schreiben Sie Programm, das Benutzer fragt, wie oft der Name wiederholt werden soll, fragt nach dem Namen und gibt den Namen die entsprechende Anzahl aus."
   ]
  },
  {
   "cell_type": "code",
   "execution_count": 4,
   "metadata": {},
   "outputs": [
    {
     "name": "stdout",
     "output_type": "stream",
     "text": [
      "Hallo Welt!\n",
      "Hallo Welt!\n",
      "Hallo Welt!\n",
      "Hallo Welt!\n",
      "Hallo Welt!\n",
      "Hallo Welt!\n",
      "Hallo Welt!\n",
      "Hallo Welt!\n",
      "Hallo Welt!\n",
      "Hallo Welt!\n",
      "Hallo Welt!\n",
      "Hallo Welt!\n",
      "Hallo Welt!\n",
      "Hallo Welt!\n",
      "Hallo Welt!\n",
      "Hallo Welt!\n",
      "Hallo Welt!\n",
      "Hallo Welt!\n",
      "Hallo Welt!\n",
      "Hallo Welt!\n",
      "Hallo Welt!\n",
      "Hallo Welt!\n",
      "Hallo Welt!\n",
      "Hallo Welt!\n",
      "Hallo Welt!\n",
      "Hallo Welt!\n",
      "Hallo Welt!\n",
      "Hallo Welt!\n",
      "Hallo Welt!\n",
      "Hallo Welt!\n"
     ]
    }
   ],
   "source": [
    "#Aufgabe 1\n",
    "for i in range(30):\n",
    "    print(\"Hallo Welt!\")"
   ]
  },
  {
   "cell_type": "code",
   "execution_count": 5,
   "metadata": {},
   "outputs": [
    {
     "name": "stdout",
     "output_type": "stream",
     "text": [
      "Gregor\n",
      "Gregor\n",
      "Gregor\n",
      "Gregor\n",
      "Gregor\n",
      "Gregor\n"
     ]
    }
   ],
   "source": [
    "#Aufgabe 2\n",
    "name = input(\"Geben Sie den Namen ein: \")\n",
    "w = int(input(\"Geben Sie die Anzahl Wiederholungen ein: \"))\n",
    "\n",
    "for i in range(w):\n",
    "    print(name)"
   ]
  },
  {
   "cell_type": "markdown",
   "metadata": {},
   "source": [
    "## Schleifen mit Bedingung\n",
    "Die andere Variante benutzt eine Bedingung. Diese Variante ist allgemeiner aber auch etwas schwieriger. Der Codeblock wird wiederholt solange die Bedingung erfüllt ist:\n",
    "~~~ python\n",
    "while a<3:\n",
    "    # wiederholen\n",
    "    print('dies wird wiederholt')\n",
    "#wiederholung ist beendet\n",
    "~~~\n",
    "### Bedingungen\n",
    "Mit Bedingungen steuern wir, ob ein Befehlsblock wiederholt wird oder nicht. Eine Bedingung ist dabei ein Ausdruck, den der Computer entscheiden kann ob er wahr (`True`) oder falsch (`False`) ist.\n",
    "~~~ python\n",
    "a == 3        # zwei Gleichheitszeichen damit es keine Zuordnung wird!\n",
    "3 <= 4\n",
    "a > 5\n",
    "a != 'ja'     # nicht gleich\n",
    "'e' in a\n",
    "~~~"
   ]
  },
  {
   "cell_type": "markdown",
   "metadata": {},
   "source": [
    "### Aufgaben\n",
    "1. Schreiben Sie ein Programm das den Benutzer nach einem Passwort fragt und erst aufhört, wenn man das richtige Passwort eingegeben hat.\n",
    "2. Schreiben Sie ein Programm welches eine eingegebene Zahl so lange verdoppelt bis die Zahl grösser ist als 1 Million."
   ]
  },
  {
   "cell_type": "code",
   "execution_count": 9,
   "metadata": {},
   "outputs": [
    {
     "name": "stdout",
     "output_type": "stream",
     "text": [
      "Fertig\n"
     ]
    }
   ],
   "source": [
    "passwort = \"geheim\"\n",
    "eingabe=\"\"\n",
    "# Kontrolle\n",
    "while eingabe != passwort:  # eingabe nicht gleich dem passwort\n",
    "    eingabe = input(\"Raten Sie das Passwort: \")\n",
    "print(\"Fertig\")\n",
    "    "
   ]
  },
  {
   "cell_type": "code",
   "execution_count": 15,
   "metadata": {},
   "outputs": [
    {
     "name": "stdout",
     "output_type": "stream",
     "text": [
      "12 1867776\n"
     ]
    }
   ],
   "source": [
    "n=456\n",
    "zaehler =0 # zaehler festlegen (inizialisieren)\n",
    "while n<=1000000:\n",
    "    n=n*2\n",
    "    zaehler +=1  #zaehler um eins vergrössern\n",
    "print(zaehler,n )  #zaehler ausgeben\n",
    " "
   ]
  },
  {
   "cell_type": "code",
   "execution_count": 8,
   "metadata": {},
   "outputs": [
    {
     "name": "stdout",
     "output_type": "stream",
     "text": [
      "is it prime: Ja\n"
     ]
    }
   ],
   "source": []
  },
  {
   "cell_type": "code",
   "execution_count": null,
   "metadata": {},
   "outputs": [],
   "source": []
  },
  {
   "cell_type": "markdown",
   "metadata": {},
   "source": [
    "## Ausbrechen aus einer Schleife\n",
    "Manchmal ist es erwünscht dass man, je nach Bedingung , eine Schleife abbrechen muss oder will. Dies ist in Python natürlich auch möglich. Mit dem Befehle ´break´ kann man jede Schleife vorzeitig abbrechen\n"
   ]
  }
 ],
 "metadata": {
  "kernelspec": {
   "display_name": "Python 3.8.0 32-bit",
   "language": "python",
   "name": "python38032bit0d6d06ef9a514b9f91b9da73ce5f0327"
  },
  "language_info": {
   "codemirror_mode": {
    "name": "ipython",
    "version": 3
   },
   "file_extension": ".py",
   "mimetype": "text/x-python",
   "name": "python",
   "nbconvert_exporter": "python",
   "pygments_lexer": "ipython3",
   "version": "3.6.6"
  }
 },
 "nbformat": 4,
 "nbformat_minor": 2
}
